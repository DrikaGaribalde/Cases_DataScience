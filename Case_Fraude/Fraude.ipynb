{
 "cells": [
  {
   "cell_type": "code",
   "execution_count": null,
   "id": "1f7dfe48-ead0-49a2-824e-6ebd289f1b84",
   "metadata": {
    "scrolled": true
   },
   "outputs": [],
   "source": [
    "# Case de Predição de Fraudes em Transações de Cartão de Crédito 💳\n",
    "'''\n",
    "## Contexto:\n",
    "\n",
    "Você é um(a) cientista de dados em uma instituição financeira renomada. \n",
    "A empresa está enfrentando um aumento significativo nas transações fraudulentas de cartões de crédito, \n",
    "o que está prejudicando a confiança dos clientes e causando prejuízos financeiros. \n",
    "Sua tarefa é desenvolver um modelo preditivo que possa identificar transações fraudulentas com alta precisão, \n",
    "minimizando assim o impacto financeiro e protegendo a reputação da instituição.\n",
    "\n",
    "## Base de Dados:\n",
    "\n",
    "Você tem acesso à base de dados \"**fraud_dataset.csv**\", que contém informações detalhadas sobre as transações\n",
    "de cartões de crédito. \n",
    "\n",
    "## Objetivo:\n",
    "\n",
    "Desenvolver um modelo preditivo utilizando o algoritmo de Regressão Logística com regularização L2 para prever\n",
    "se uma transação de cartão de crédito é fraudulenta ou não.\n",
    "\n",
    "**Realize os seguintes passos na sua entrega:**\n",
    "\n",
    "- Pré-processamento de Dados:\n",
    "  - Verifique se a base de dados contém informações nulas.\n",
    "  - Considere a padronização de variáveis numéricas.\n",
    "- Divisão da Base de Dados:\n",
    "  - Separe a base de dados utilizando a técnica hold out, mantendo uma proporção adequada para garantir \n",
    "  a representatividade dos dados.\n",
    "  - Caso a base de dados tenha algum tipo de desequilíbrio, aplique uma técnica de oversampling para \n",
    "  equilibrar as classes.\n",
    "- Modelagem:\n",
    "  - Implemente o algoritmo de Regressão Logística com regularização L2.\n",
    "  - Utilize a técnica de validação cruzada k-fold (com 5 folds) para avaliar o desempenho do modelo.\n",
    "- Avaliação do Modelo:\n",
    "  - Avalie o modelo utilizando métricas como precisão, recall, F1-score e área sob a curva ROC (AUC-ROC).\n",
    "- Interpretação e Comunicação de Resultados:\n",
    "  - Comunique os resultados de forma clara e acessível para as partes interessadas, destacando a eficácia \n",
    "  do modelo na identificação de transações fraudulentas.\n",
    "  '''"
   ]
  },
  {
   "cell_type": "code",
   "execution_count": 65,
   "id": "e7d82711-24b8-4441-90bd-a93809339740",
   "metadata": {},
   "outputs": [],
   "source": [
    "import pandas as pd"
   ]
  },
  {
   "cell_type": "code",
   "execution_count": 67,
   "id": "acf682d2-8c78-4792-bda0-f7a91850624e",
   "metadata": {},
   "outputs": [
    {
     "data": {
      "text/html": [
       "<div>\n",
       "<style scoped>\n",
       "    .dataframe tbody tr th:only-of-type {\n",
       "        vertical-align: middle;\n",
       "    }\n",
       "\n",
       "    .dataframe tbody tr th {\n",
       "        vertical-align: top;\n",
       "    }\n",
       "\n",
       "    .dataframe thead th {\n",
       "        text-align: right;\n",
       "    }\n",
       "</style>\n",
       "<table border=\"1\" class=\"dataframe\">\n",
       "  <thead>\n",
       "    <tr style=\"text-align: right;\">\n",
       "      <th></th>\n",
       "      <th>distance_from_home</th>\n",
       "      <th>distance_from_last_transaction</th>\n",
       "      <th>ratio_to_median_purchase_price</th>\n",
       "      <th>repeat_retailer</th>\n",
       "      <th>used_chip</th>\n",
       "      <th>used_pin_number</th>\n",
       "      <th>online_order</th>\n",
       "      <th>fraud</th>\n",
       "    </tr>\n",
       "  </thead>\n",
       "  <tbody>\n",
       "    <tr>\n",
       "      <th>0</th>\n",
       "      <td>57.877857</td>\n",
       "      <td>0.311140</td>\n",
       "      <td>1.945940</td>\n",
       "      <td>1.0</td>\n",
       "      <td>1.0</td>\n",
       "      <td>0.0</td>\n",
       "      <td>0.0</td>\n",
       "      <td>0.0</td>\n",
       "    </tr>\n",
       "    <tr>\n",
       "      <th>1</th>\n",
       "      <td>10.829943</td>\n",
       "      <td>0.175592</td>\n",
       "      <td>1.294219</td>\n",
       "      <td>1.0</td>\n",
       "      <td>0.0</td>\n",
       "      <td>0.0</td>\n",
       "      <td>0.0</td>\n",
       "      <td>0.0</td>\n",
       "    </tr>\n",
       "    <tr>\n",
       "      <th>2</th>\n",
       "      <td>5.091079</td>\n",
       "      <td>0.805153</td>\n",
       "      <td>0.427715</td>\n",
       "      <td>1.0</td>\n",
       "      <td>0.0</td>\n",
       "      <td>0.0</td>\n",
       "      <td>1.0</td>\n",
       "      <td>0.0</td>\n",
       "    </tr>\n",
       "    <tr>\n",
       "      <th>3</th>\n",
       "      <td>2.247564</td>\n",
       "      <td>5.600044</td>\n",
       "      <td>0.362663</td>\n",
       "      <td>1.0</td>\n",
       "      <td>1.0</td>\n",
       "      <td>0.0</td>\n",
       "      <td>1.0</td>\n",
       "      <td>0.0</td>\n",
       "    </tr>\n",
       "    <tr>\n",
       "      <th>4</th>\n",
       "      <td>44.190936</td>\n",
       "      <td>0.566486</td>\n",
       "      <td>2.222767</td>\n",
       "      <td>1.0</td>\n",
       "      <td>1.0</td>\n",
       "      <td>0.0</td>\n",
       "      <td>1.0</td>\n",
       "      <td>0.0</td>\n",
       "    </tr>\n",
       "  </tbody>\n",
       "</table>\n",
       "</div>"
      ],
      "text/plain": [
       "   distance_from_home  distance_from_last_transaction  \\\n",
       "0           57.877857                        0.311140   \n",
       "1           10.829943                        0.175592   \n",
       "2            5.091079                        0.805153   \n",
       "3            2.247564                        5.600044   \n",
       "4           44.190936                        0.566486   \n",
       "\n",
       "   ratio_to_median_purchase_price  repeat_retailer  used_chip  \\\n",
       "0                        1.945940              1.0        1.0   \n",
       "1                        1.294219              1.0        0.0   \n",
       "2                        0.427715              1.0        0.0   \n",
       "3                        0.362663              1.0        1.0   \n",
       "4                        2.222767              1.0        1.0   \n",
       "\n",
       "   used_pin_number  online_order  fraud  \n",
       "0              0.0           0.0    0.0  \n",
       "1              0.0           0.0    0.0  \n",
       "2              0.0           1.0    0.0  \n",
       "3              0.0           1.0    0.0  \n",
       "4              0.0           1.0    0.0  "
      ]
     },
     "execution_count": 67,
     "metadata": {},
     "output_type": "execute_result"
    }
   ],
   "source": [
    "df = pd.read_csv('fraud_dataset.csv')\n",
    "df.head()"
   ]
  },
  {
   "cell_type": "code",
   "execution_count": 69,
   "id": "d3048fc7-f3a4-482b-aa28-61e8e3973a5f",
   "metadata": {},
   "outputs": [
    {
     "data": {
      "text/plain": [
       "distance_from_home                0\n",
       "distance_from_last_transaction    0\n",
       "ratio_to_median_purchase_price    0\n",
       "repeat_retailer                   0\n",
       "used_chip                         0\n",
       "used_pin_number                   0\n",
       "online_order                      0\n",
       "fraud                             0\n",
       "dtype: int64"
      ]
     },
     "execution_count": 69,
     "metadata": {},
     "output_type": "execute_result"
    }
   ],
   "source": [
    "#Verifique se a base de dados contém informações nulas.\n",
    "df.isnull().sum()"
   ]
  },
  {
   "cell_type": "code",
   "execution_count": 71,
   "id": "5d19d3b1-4e0f-4730-9c7c-7f9958fcf9be",
   "metadata": {},
   "outputs": [
    {
     "data": {
      "text/plain": [
       "(1000000, 8)"
      ]
     },
     "execution_count": 71,
     "metadata": {},
     "output_type": "execute_result"
    }
   ],
   "source": [
    "df.shape"
   ]
  },
  {
   "cell_type": "code",
   "execution_count": 73,
   "id": "8f0a5b3f-1a9e-4b9d-bd5e-a574de6212fa",
   "metadata": {},
   "outputs": [
    {
     "data": {
      "text/plain": [
       "fraud\n",
       "0.0    91.26\n",
       "1.0     8.74\n",
       "Name: proportion, dtype: float64"
      ]
     },
     "execution_count": 73,
     "metadata": {},
     "output_type": "execute_result"
    }
   ],
   "source": [
    "#Verificação de desequilíbrio de classe - fraud\n",
    "round(df['fraud'].value_counts(normalize=True)*100,2)\n",
    "#há desequilíbrio"
   ]
  },
  {
   "cell_type": "code",
   "execution_count": 75,
   "id": "d2569979-a619-4287-b2ef-987b83f8ad3f",
   "metadata": {},
   "outputs": [
    {
     "data": {
      "text/plain": [
       "Index(['distance_from_home', 'distance_from_last_transaction',\n",
       "       'ratio_to_median_purchase_price', 'repeat_retailer', 'used_chip',\n",
       "       'used_pin_number', 'online_order', 'fraud'],\n",
       "      dtype='object')"
      ]
     },
     "execution_count": 75,
     "metadata": {},
     "output_type": "execute_result"
    }
   ],
   "source": [
    "df.columns"
   ]
  },
  {
   "cell_type": "code",
   "execution_count": 77,
   "id": "7cb4fe9b-2255-45bd-8ef5-ee809bf06e21",
   "metadata": {},
   "outputs": [],
   "source": [
    "#separar antes da normalização\n",
    "#técnica de hold out( 80%treino 20%teste)\n",
    "from sklearn.model_selection import train_test_split\n",
    "X = df.drop('fraud', axis=1)\n",
    "y = df['fraud']\n",
    "X_train, X_test, y_train, y_test= train_test_split(X, y, test_size=0.2,stratify=y, random_state=7)\n"
   ]
  },
  {
   "cell_type": "code",
   "execution_count": 79,
   "id": "7eb993bc-e670-4d17-acdd-19e8f3394c3c",
   "metadata": {},
   "outputs": [
    {
     "name": "stdout",
     "output_type": "stream",
     "text": [
      "(800000, 7) (200000, 7)\n"
     ]
    }
   ],
   "source": [
    "print(X_train.shape, X_test.shape)"
   ]
  },
  {
   "cell_type": "code",
   "execution_count": 81,
   "id": "be1b4725-7b1a-42b7-8de6-a3770796627a",
   "metadata": {},
   "outputs": [],
   "source": [
    "#Considere a padronização de variáveis numéricas.\n",
    "from sklearn.preprocessing import StandardScaler\n",
    "scaler = StandardScaler()\n",
    "\n",
    "scaler.fit(X_train) #para não deixar meus dados enviezados\n",
    "\n",
    "X_train_escalonado = scaler.transform(X_train)\n",
    "X_test_escalonado = scaler.transform(X_test)\n"
   ]
  },
  {
   "cell_type": "code",
   "execution_count": 83,
   "id": "0e9dcbfd-4285-4155-8641-a8a46e59cfe1",
   "metadata": {},
   "outputs": [],
   "source": [
    "#Caso a base de dados tenha algum tipo de desequilíbrio, \n",
    "#aplique uma técnica de oversampling para equilibrar as classes.\n",
    "\n",
    "from imblearn.over_sampling import SMOTE\n",
    "\n",
    "smote = SMOTE(sampling_strategy='minority', random_state=7)\n",
    "X_train_resampled, y_train_resampled = smote.fit_resample(X_train_escalonado,y_train)"
   ]
  },
  {
   "cell_type": "code",
   "execution_count": 84,
   "id": "17e9b20b-7e2d-40af-855e-3a913ea6bd80",
   "metadata": {},
   "outputs": [
    {
     "name": "stdout",
     "output_type": "stream",
     "text": [
      "fraud\n",
      "0.0    50.0\n",
      "1.0    50.0\n",
      "Name: proportion, dtype: float64\n"
     ]
    }
   ],
   "source": [
    "print(pd.Series(y_train_resampled).value_counts(normalize=True)*100)"
   ]
  },
  {
   "cell_type": "code",
   "execution_count": 95,
   "id": "125300ab-7990-4dee-8b0f-721114d19aab",
   "metadata": {},
   "outputs": [],
   "source": [
    "#Implemente o algoritmo de Regressão Logística com regularização L2.\n",
    "#https://scikit-learn.org/stable/modules/generated/sklearn.model_selection.StratifiedKFold.html\n",
    "#https://scikit-learn.org/stable/modules/generated/sklearn.linear_model.LogisticRegression.html\n",
    "\n",
    "from sklearn.model_selection import StratifiedKFold,cross_val_score\n",
    "from sklearn.linear_model import LogisticRegression\n",
    "\n",
    "modelo = LogisticRegression(penalty='l2')\n",
    "\n",
    "#Utilize a técnica de validação cruzada k-fold (com 5 folds) para avaliar o desempenho do modelo.\n",
    "cv = StratifiedKFold(n_splits=5,shuffle=True, random_state=7)\n",
    "scores = cross_val_score(modelo, X_train_resampled, y_train_resampled, cv=cv, scoring='roc_auc')\n"
   ]
  },
  {
   "cell_type": "code",
   "execution_count": 96,
   "id": "86560d6c-9dbc-4c8e-ac92-9b91f6f022cb",
   "metadata": {},
   "outputs": [
    {
     "name": "stdout",
     "output_type": "stream",
     "text": [
      "0.9793301515239321\n"
     ]
    }
   ],
   "source": [
    "print(scores.mean())"
   ]
  },
  {
   "cell_type": "code",
   "execution_count": 101,
   "id": "8297b5a8-a694-4457-ae7b-a2fe88694c9c",
   "metadata": {},
   "outputs": [],
   "source": [
    "modelo.fit(X_train_resampled, y_train_resampled)\n",
    "y_pred = modelo.predict(X_test_escalonado)"
   ]
  },
  {
   "cell_type": "code",
   "execution_count": 109,
   "id": "9f9cde62-e75f-464f-9f16-157f6f66c05e",
   "metadata": {},
   "outputs": [
    {
     "name": "stdout",
     "output_type": "stream",
     "text": [
      "              precision    recall  f1-score   support\n",
      "\n",
      "         0.0       1.00      0.93      0.96    182519\n",
      "         1.0       0.58      0.95      0.72     17481\n",
      "\n",
      "    accuracy                           0.93    200000\n",
      "   macro avg       0.79      0.94      0.84    200000\n",
      "weighted avg       0.96      0.93      0.94    200000\n",
      "\n",
      "0.9430003032089769\n"
     ]
    }
   ],
   "source": [
    "#Avalie o modelo utilizando métricas como precisão, recall, F1-score e área sob a curva ROC (AUC-ROC)\n",
    "from sklearn.metrics import classification_report, roc_auc_score\n",
    "\n",
    "auc_score=roc_auc_score(y_test,y_pred)\n",
    "print(classification_report(y_test,y_pred))\n",
    "print(auc_score.mean())"
   ]
  },
  {
   "cell_type": "code",
   "execution_count": null,
   "id": "1d5fec9e-fef6-404f-88d6-00a0204ecfab",
   "metadata": {},
   "outputs": [],
   "source": [
    "#Comunique os resultados de forma clara e acessível para as partes interessadas, destacando a eficácia \n",
    "#do modelo na identificação de transações fraudulentas.\n",
    "\n",
    "#O modelo apresentou que consegue distinguir o que é fraude ou não, mas ainda não está tão acertivo. \n",
    "#há outros modelos que seriam melhores para desequilíbrio de classes: Modelos Baseados em Árvore (como Random Forest, XGBoost)\n",
    "#Capturam relações não lineares e interações entre variáveis.\n",
    "#Lidam bem com variáveis categóricas, valores ausentes, outliers.\n",
    "#Têm parâmetros dedicados ao balanceamento (como scale_pos_weight, class_weight).\n",
    "#Tendem a ter melhor desempenho em métricas como F1-score, Recall e AUC em dados desbalanceados."
   ]
  }
 ],
 "metadata": {
  "kernelspec": {
   "display_name": "Python [conda env:base] *",
   "language": "python",
   "name": "conda-base-py"
  },
  "language_info": {
   "codemirror_mode": {
    "name": "ipython",
    "version": 3
   },
   "file_extension": ".py",
   "mimetype": "text/x-python",
   "name": "python",
   "nbconvert_exporter": "python",
   "pygments_lexer": "ipython3",
   "version": "3.12.7"
  }
 },
 "nbformat": 4,
 "nbformat_minor": 5
}
